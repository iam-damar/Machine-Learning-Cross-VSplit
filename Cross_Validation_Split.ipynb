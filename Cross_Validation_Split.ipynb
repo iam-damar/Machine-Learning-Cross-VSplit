{
  "nbformat": 4,
  "nbformat_minor": 0,
  "metadata": {
    "colab": {
      "name": "Cross Validation Split.ipynb",
      "provenance": []
    },
    "kernelspec": {
      "name": "python3",
      "display_name": "Python 3"
    }
  },
  "cells": [
    {
      "cell_type": "markdown",
      "metadata": {
        "id": "h5FavNAe8cr1"
      },
      "source": [
        "## Cross Validation Split"
      ]
    },
    {
      "cell_type": "code",
      "metadata": {
        "id": "EEqRS-gu8fpN"
      },
      "source": [
        "import sklearn\n",
        "from sklearn import datasets\n",
        "from sklearn.model_selection import cross_val_score\n",
        "from sklearn import  tree\n",
        "iris = datasets.load_iris()"
      ],
      "execution_count": 6,
      "outputs": []
    },
    {
      "cell_type": "code",
      "metadata": {
        "id": "5AFKjBvE8qMQ"
      },
      "source": [
        "x=iris.data\n",
        "y=iris.target"
      ],
      "execution_count": 7,
      "outputs": []
    },
    {
      "cell_type": "code",
      "metadata": {
        "id": "L4HKvAbx8sVs"
      },
      "source": [
        "clf = tree.DecisionTreeClassifier()"
      ],
      "execution_count": 8,
      "outputs": []
    },
    {
      "cell_type": "code",
      "metadata": {
        "id": "yUc_tvu-8wow"
      },
      "source": [
        "scores = cross_val_score(clf, x, y, cv=5)"
      ],
      "execution_count": 9,
      "outputs": []
    },
    {
      "cell_type": "code",
      "metadata": {
        "id": "98NSAl0r8zrI",
        "outputId": "c3cde348-e75f-4ed2-d2e8-d5c02347a745",
        "colab": {
          "base_uri": "https://localhost:8080/",
          "height": 34
        }
      },
      "source": [
        "scores"
      ],
      "execution_count": 10,
      "outputs": [
        {
          "output_type": "execute_result",
          "data": {
            "text/plain": [
              "array([0.96666667, 0.96666667, 0.9       , 0.96666667, 1.        ])"
            ]
          },
          "metadata": {
            "tags": []
          },
          "execution_count": 10
        }
      ]
    },
    {
      "cell_type": "code",
      "metadata": {
        "id": "mnvf6cjM8-SF"
      },
      "source": [
        "# Elemen pertama dari larik menunjukkan nilai 0.96666 yang berarti ketika fold pertama dijadikan validation set dan fold lainnya dijadikan train set,\n",
        "# hasil dari pengujian tersebut adalah akurasi sebesar 0.96666. \n",
        "\n",
        "# Melihat akurasi dari seluruh pengujian fold yang memiliki nilai tinggi dan konsisten pada tiap fold, \n",
        "# kita mendapatkan gambaran bahwa model kita memiliki performa yang sangat baik.\n",
        "\n",
        "# Secara umum jika hasil dari pengujian tiap fold pada cross validation memiliki nilai yang bervariasi dari 0.85 sampai 0.99, \n",
        "# maka model tersebut dapat dikatakan baik."
      ],
      "execution_count": 11,
      "outputs": []
    }
  ]
}